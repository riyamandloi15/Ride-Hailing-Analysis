{
 "cells": [
  {
   "cell_type": "code",
   "execution_count": 1,
   "id": "9e8fe5e1-55c2-4396-818e-5e7e32a3217c",
   "metadata": {},
   "outputs": [],
   "source": [
    "import pandas as pd\n",
    "\n",
    "df_drivers = pd.read_excel(\"Drivers.xlsx\", sheet_name=\"Drivers\")\n",
    "df_customers = pd.read_excel(\"Customers.xlsx\", sheet_name=\"customers\")\n",
    "df_rides = pd.read_excel(\"Bookings.xlsx\", sheet_name=\"rides\")\n",
    "\n"
   ]
  },
  {
   "cell_type": "code",
   "execution_count": 17,
   "id": "0c4f4185-8f0b-4f39-a512-73a4def274d4",
   "metadata": {},
   "outputs": [
    {
     "name": "stdout",
     "output_type": "stream",
     "text": [
      "Drivers: (523, 6)\n",
      "Customers: (2233, 9)\n",
      "Rides: (21200, 17)\n"
     ]
    }
   ],
   "source": [
    "print(\"Drivers:\", df_drivers.shape)\n",
    "print(\"Customers:\", df_customers.shape)\n",
    "print(\"Rides:\", df_rides.shape)"
   ]
  },
  {
   "cell_type": "code",
   "execution_count": 40,
   "id": "f7bca796-ceb3-4dca-b618-bd99c2b38357",
   "metadata": {},
   "outputs": [],
   "source": [
    "def clean_columns(df):\n",
    "    df.columns = df.columns.str.strip().str.replace(\" \", \"_\").str.lower()\n",
    "    return df\n",
    "\n",
    "df_customers = clean_columns(df_customers)\n",
    "df_drivers = clean_columns(df_drivers)\n",
    "df_rides = clean_columns(df_rides)"
   ]
  },
  {
   "cell_type": "code",
   "execution_count": 43,
   "id": "296992c2-4fe9-4f0f-aede-a216d509c75e",
   "metadata": {},
   "outputs": [],
   "source": [
    "for col in [\"pickup\", \"dropoff\", \"pickupdatetime\"]:\n",
    "    if col in df_rides.columns:\n",
    "        df_rides[col] = pd.to_datetime(df_rides[col], errors=\"coerce\")\n",
    "\n",
    "# If pickup + time exist, create pickupdatetime\n",
    "if \"pickup\" in df_rides.columns and \"time\" in df_rides.columns:\n",
    "    df_rides[\"pickupdatetime\"] = pd.to_datetime(df_rides[\"pickup\"].astype(str) + \" \" + df_rides[\"time\"].astype(str), errors=\"coerce\")\n",
    "\n",
    "# Dropoff datetime\n",
    "if \"dropoff\" in df_rides.columns:\n",
    "    df_rides[\"dropoffdatetime\"] = pd.to_datetime(df_rides[\"dropoff\"], errors=\"coerce\")"
   ]
  },
  {
   "cell_type": "code",
   "execution_count": 45,
   "id": "77686221-a3ee-4b79-8f0a-9307e5731ded",
   "metadata": {},
   "outputs": [
    {
     "name": "stdout",
     "output_type": "stream",
     "text": [
      "Customers Data:\n",
      "  customerid   customername  customerrating  totalrides  \\\n",
      "0      cust1      Veer Gill             3.6           4   \n",
      "1      cust2  Adah Seshadri             1.6          14   \n",
      "2      cust3   Eshani Atwal             3.4           5   \n",
      "3      cust4     Vidur Gade             3.0           4   \n",
      "4      cust5    Rania Sathe             3.8          54   \n",
      "\n",
      "                                    customerfeedback location  \\\n",
      "0  Architecto voluptatibus at placeat dolores rec...  Versova   \n",
      "1  Officia exercitationem ab laudantium atque sol...    Malad   \n",
      "2                            Eaque officiis debitis.   Colaba   \n",
      "3                  Ullam natus aspernatur nisi nemo.    Thane   \n",
      "4                   Ex fugit quasi at totam aliquam.   Bandra   \n",
      "\n",
      "  frequentdropofflocation  age  gender  \n",
      "0                 Andheri   33    Male  \n",
      "1                 Versova   52    Male  \n",
      "2            South Mumbai   31    Male  \n",
      "3                  Bandra   63   Other  \n",
      "4                   Kurla   55  Female   \n",
      "\n",
      "Drivers Data:\n",
      "  driverid       drivername  driverrating  totalrides vehicletype  \\\n",
      "0  driver1         Diya Dey           1.8          17         Car   \n",
      "1  driver2  Manjari Dhingra           1.3         292         Van   \n",
      "2  driver3    Ritvik Bansal           3.3         248         Car   \n",
      "3  driver4      Rasha Singh           2.3         159         Car   \n",
      "4  driver5     Shamik Krish           4.0         204         Van   \n",
      "\n",
      "   driverexperienceyears  \n",
      "0                      5  \n",
      "1                      1  \n",
      "2                      1  \n",
      "3                      6  \n",
      "4                      4   \n",
      "\n",
      "Rides Data:\n",
      "  rideid pickuplocation dropofflocation  distance  ridetype     fare  \\\n",
      "0  ride1         Colaba        Borivali      7.29  UberPool  1209.19   \n",
      "1  ride2         Colaba            Sion      7.55     UberX   585.43   \n",
      "2  ride3          Thane           Thane     18.75  OlaMicro  1335.77   \n",
      "3  ride4        Andheri        Borivali      6.32     UberX   297.07   \n",
      "4  ride5        Versova       Kandivali     19.37  OlaMicro  1353.57   \n",
      "\n",
      "    driverid customerid  perkmrate      pickupdatetime  \n",
      "0   driver69   cust1436      35.45 2024-07-08 01:03:17  \n",
      "1  driver437   cust1253      24.69 2022-04-11 12:30:40  \n",
      "2   driver80    cust625      14.12 2022-11-22 05:02:07  \n",
      "3  driver393   cust1353      33.03 2024-05-13 15:08:31  \n",
      "4  driver485    cust858      16.72 2020-06-09 19:06:02   \n",
      "\n",
      "\n",
      "=== Info ===\n",
      "<class 'pandas.core.frame.DataFrame'>\n",
      "RangeIndex: 2233 entries, 0 to 2232\n",
      "Data columns (total 9 columns):\n",
      " #   Column                   Non-Null Count  Dtype  \n",
      "---  ------                   --------------  -----  \n",
      " 0   customerid               2233 non-null   object \n",
      " 1   customername             2233 non-null   object \n",
      " 2   customerrating           2233 non-null   float64\n",
      " 3   totalrides               2233 non-null   int64  \n",
      " 4   customerfeedback         2233 non-null   object \n",
      " 5   location                 2233 non-null   object \n",
      " 6   frequentdropofflocation  2233 non-null   object \n",
      " 7   age                      2233 non-null   int64  \n",
      " 8   gender                   2233 non-null   object \n",
      "dtypes: float64(1), int64(2), object(6)\n",
      "memory usage: 157.1+ KB\n",
      "None \n",
      "\n",
      "<class 'pandas.core.frame.DataFrame'>\n",
      "RangeIndex: 523 entries, 0 to 522\n",
      "Data columns (total 6 columns):\n",
      " #   Column                 Non-Null Count  Dtype  \n",
      "---  ------                 --------------  -----  \n",
      " 0   driverid               523 non-null    object \n",
      " 1   drivername             523 non-null    object \n",
      " 2   driverrating           523 non-null    float64\n",
      " 3   totalrides             523 non-null    int64  \n",
      " 4   vehicletype            523 non-null    object \n",
      " 5   driverexperienceyears  523 non-null    int64  \n",
      "dtypes: float64(1), int64(2), object(3)\n",
      "memory usage: 24.6+ KB\n",
      "None \n",
      "\n",
      "<class 'pandas.core.frame.DataFrame'>\n",
      "RangeIndex: 21200 entries, 0 to 21199\n",
      "Data columns (total 10 columns):\n",
      " #   Column           Non-Null Count  Dtype         \n",
      "---  ------           --------------  -----         \n",
      " 0   rideid           21200 non-null  object        \n",
      " 1   pickuplocation   21200 non-null  object        \n",
      " 2   dropofflocation  21200 non-null  object        \n",
      " 3   distance         21200 non-null  float64       \n",
      " 4   ridetype         21200 non-null  object        \n",
      " 5   fare             21200 non-null  float64       \n",
      " 6   driverid         21200 non-null  object        \n",
      " 7   customerid       21200 non-null  object        \n",
      " 8   perkmrate        21200 non-null  float64       \n",
      " 9   pickupdatetime   21200 non-null  datetime64[ns]\n",
      "dtypes: datetime64[ns](1), float64(3), object(6)\n",
      "memory usage: 1.6+ MB\n",
      "None \n",
      "\n"
     ]
    }
   ],
   "source": [
    "print(\"Customers Data:\")\n",
    "print(df_customers.head(), \"\\n\")\n",
    "\n",
    "print(\"Drivers Data:\")\n",
    "print(df_drivers.head(), \"\\n\")\n",
    "\n",
    "print(\"Rides Data:\")\n",
    "print(df_rides.head(), \"\\n\")\n",
    "\n",
    "print(\"\\n=== Info ===\")\n",
    "print(df_customers.info(), \"\\n\")\n",
    "print(df_drivers.info(), \"\\n\")\n",
    "print(df_rides.info(), \"\\n\")"
   ]
  },
  {
   "cell_type": "code",
   "execution_count": 28,
   "id": "76f80e2d-baea-44ba-a46e-5d5e0aa7aa82",
   "metadata": {},
   "outputs": [
    {
     "data": {
      "text/plain": [
       "rideid             0\n",
       "pickuplocation     0\n",
       "dropofflocation    0\n",
       "distance           0\n",
       "ridetype           0\n",
       "fare               0\n",
       "driverid           0\n",
       "customerid         0\n",
       "perkmrate          0\n",
       "pickupdatetime     0\n",
       "dtype: int64"
      ]
     },
     "execution_count": 28,
     "metadata": {},
     "output_type": "execute_result"
    }
   ],
   "source": [
    "df_rides.isnull().sum()\n"
   ]
  },
  {
   "cell_type": "code",
   "execution_count": 47,
   "id": "b5fe764d-1156-4dd4-9db2-8250a27b818b",
   "metadata": {},
   "outputs": [],
   "source": [
    "df_rides['pickupdatetime'] = pd.to_datetime(df_rides['pickupdatetime'])\n",
    "df_rides['fare'] = df_rides['fare'].astype(float)\n",
    "df_rides['distance'] = df_rides['distance'].astype(float)\n"
   ]
  },
  {
   "cell_type": "code",
   "execution_count": 59,
   "id": "70f39561-074a-4568-88a6-dad6f71e1b0b",
   "metadata": {},
   "outputs": [],
   "source": [
    "df_drivers.to_csv(\"cleaned_drivers.csv\", index=False)\n",
    "df_customers.to_csv(\"cleaned_customers.csv\", index=False)\n",
    "df_rides.to_csv(\"cleaned_rides.csv\", index=False)\n"
   ]
  },
  {
   "cell_type": "code",
   "execution_count": null,
   "id": "aae41e56-611c-41ef-9ab5-74a32ff96389",
   "metadata": {},
   "outputs": [],
   "source": []
  }
 ],
 "metadata": {
  "kernelspec": {
   "display_name": "Python 3 (ipykernel)",
   "language": "python",
   "name": "python3"
  },
  "language_info": {
   "codemirror_mode": {
    "name": "ipython",
    "version": 3
   },
   "file_extension": ".py",
   "mimetype": "text/x-python",
   "name": "python",
   "nbconvert_exporter": "python",
   "pygments_lexer": "ipython3",
   "version": "3.12.4"
  }
 },
 "nbformat": 4,
 "nbformat_minor": 5
}
